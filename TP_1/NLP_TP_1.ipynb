{
 "cells": [
  {
   "cell_type": "markdown",
   "id": "5dd21e6b",
   "metadata": {},
   "source": [
    "# The dataset\n",
    "1. The dataset has three splits:\n",
    "    + train\n",
    "    + test\n",
    "    + unsupervised\n",
    "   Splits can be found in the hugging faces page of the dataset.\n",
    "   Or with the function get_dataset_split_names(\"name_of_dataset\")\n",
    "2. Here are the size of datasets:\n",
    "    + Size of the train dataset: 25000\n",
    "    + Size of the test dataset: 25000\n",
    "    + Size of the unsupervised dataset: 50000"
   ]
  },
  {
   "cell_type": "code",
   "execution_count": null,
   "id": "79be57a1",
   "metadata": {},
   "outputs": [],
   "source": [
    "from datasets import load_dataset\n",
    "from datasets import load_dataset_builder"
   ]
  },
  {
   "cell_type": "code",
   "execution_count": null,
   "id": "817b69bd",
   "metadata": {},
   "outputs": [],
   "source": [
    "dataset = load_dataset_builder(\"imdb\")\n",
    "dataset_train = load_dataset(\"imdb\", split='train')\n",
    "dataset_test = load_dataset(\"imdb\", split='test')\n",
    "dataset_unsupervised = load_dataset(\"imdb\", split='unsupervised')"
   ]
  },
  {
   "cell_type": "code",
   "execution_count": null,
   "id": "ab8587f8",
   "metadata": {},
   "outputs": [],
   "source": [
    "dataset.info.description"
   ]
  },
  {
   "cell_type": "code",
   "execution_count": null,
   "id": "5e8ac115",
   "metadata": {},
   "outputs": [],
   "source": [
    "print(\"Size of the train dataset: \" + str(len(dataset_train)))\n",
    "print(\"Size of the test dataset: \" + str(len(dataset_test)))\n",
    "print(\"Size of the unsupervised dataset: \" + str(len(dataset_unsupervised)))"
   ]
  },
  {
   "cell_type": "markdown",
   "id": "72c1eabb",
   "metadata": {},
   "source": [
    "# Naive Bayes classifier"
   ]
  },
  {
   "cell_type": "code",
   "execution_count": null,
   "id": "ec5dd903",
   "metadata": {},
   "outputs": [],
   "source": []
  },
  {
   "cell_type": "code",
   "execution_count": null,
   "id": "2d5c3736",
   "metadata": {},
   "outputs": [],
   "source": []
  },
  {
   "cell_type": "code",
   "execution_count": null,
   "id": "0fbbe8de",
   "metadata": {},
   "outputs": [],
   "source": []
  },
  {
   "cell_type": "code",
   "execution_count": null,
   "id": "f918bdcf",
   "metadata": {},
   "outputs": [],
   "source": []
  },
  {
   "cell_type": "code",
   "execution_count": null,
   "id": "c315d9d8",
   "metadata": {},
   "outputs": [],
   "source": []
  },
  {
   "cell_type": "code",
   "execution_count": null,
   "id": "a830b711",
   "metadata": {},
   "outputs": [],
   "source": []
  },
  {
   "cell_type": "code",
   "execution_count": null,
   "id": "8060d69d",
   "metadata": {},
   "outputs": [],
   "source": []
  },
  {
   "cell_type": "code",
   "execution_count": null,
   "id": "ef40bc1f",
   "metadata": {},
   "outputs": [],
   "source": []
  },
  {
   "cell_type": "code",
   "execution_count": null,
   "id": "41950cca",
   "metadata": {},
   "outputs": [],
   "source": []
  },
  {
   "cell_type": "markdown",
   "id": "17928539",
   "metadata": {},
   "source": [
    "# Stemming and Lemmatization"
   ]
  },
  {
   "cell_type": "code",
   "execution_count": null,
   "id": "620cd7ff",
   "metadata": {},
   "outputs": [],
   "source": []
  },
  {
   "cell_type": "code",
   "execution_count": null,
   "id": "cda024bb",
   "metadata": {},
   "outputs": [],
   "source": []
  },
  {
   "cell_type": "code",
   "execution_count": null,
   "id": "07a40226",
   "metadata": {},
   "outputs": [],
   "source": []
  },
  {
   "cell_type": "code",
   "execution_count": null,
   "id": "0ff31611",
   "metadata": {},
   "outputs": [],
   "source": []
  }
 ],
 "metadata": {
  "kernelspec": {
   "display_name": "Python 3 (ipykernel)",
   "language": "python",
   "name": "python3"
  },
  "language_info": {
   "codemirror_mode": {
    "name": "ipython",
    "version": 3
   },
   "file_extension": ".py",
   "mimetype": "text/x-python",
   "name": "python",
   "nbconvert_exporter": "python",
   "pygments_lexer": "ipython3",
   "version": "3.10.9"
  }
 },
 "nbformat": 4,
 "nbformat_minor": 5
}
