{
 "cells": [
  {
   "cell_type": "markdown",
   "id": "9c990e6e",
   "metadata": {},
   "source": [
    "# Lab 03\n",
    "\n",
    "The project is a continuation of what we started on the second lab. You will train a logistic regression classifier on manually extracted features.\n"
   ]
  },
  {
   "cell_type": "code",
   "execution_count": 1,
   "id": "f78399c1",
   "metadata": {},
   "outputs": [],
   "source": [
    "import matplotlib.pyplot as plt\n",
    "import numpy as np\n",
    "import pandas as pd\n",
    "import seaborn as sns\n",
    "from sklearn.model_selection import train_test_split\n",
    "\n",
    "import torch\n",
    "from torch import nn"
   ]
  },
  {
   "cell_type": "markdown",
   "id": "05494f84",
   "metadata": {},
   "source": [
    "## Loading the dataset\n",
    "\n",
    "We load the dataset from the previous notebook."
   ]
  },
  {
   "cell_type": "code",
   "execution_count": 2,
   "id": "0df562cb",
   "metadata": {},
   "outputs": [
    {
     "data": {
      "application/vnd.jupyter.widget-view+json": {
       "model_id": "ce6b3fb8c8df452e8729269c5ddc91ac",
       "version_major": 2,
       "version_minor": 0
      },
      "text/plain": [
       "Downloading readme:   0%|          | 0.00/7.59k [00:00<?, ?B/s]"
      ]
     },
     "metadata": {},
     "output_type": "display_data"
    },
    {
     "name": "stderr",
     "output_type": "stream",
     "text": [
      "Found cached dataset imdb (/home/timothee/.cache/huggingface/datasets/imdb/plain_text/1.0.0/d613c88cf8fa3bab83b4ded3713f1f74830d1100e171db75bbddb80b3345c9c0)\n",
      "Found cached dataset imdb (/home/timothee/.cache/huggingface/datasets/imdb/plain_text/1.0.0/d613c88cf8fa3bab83b4ded3713f1f74830d1100e171db75bbddb80b3345c9c0)\n",
      "Found cached dataset imdb (/home/timothee/.cache/huggingface/datasets/imdb/plain_text/1.0.0/d613c88cf8fa3bab83b4ded3713f1f74830d1100e171db75bbddb80b3345c9c0)\n"
     ]
    }
   ],
   "source": [
    "from datasets import Dataset\n",
    "from datasets import load_dataset\n",
    "from datasets import load_dataset_builder\n",
    "\n",
    "dataset = load_dataset_builder(\"imdb\")\n",
    "dataset_train = load_dataset(\"imdb\", split='train')\n",
    "dataset_test = load_dataset(\"imdb\", split='test')\n",
    "dataset_unsupervised = load_dataset(\"imdb\", split='unsupervised')"
   ]
  },
  {
   "cell_type": "code",
   "execution_count": 3,
   "id": "ae50c85e",
   "metadata": {},
   "outputs": [],
   "source": [
    "punctuation_filter = ['\"', '#', '$', '%', '&', \"'\", '(', ')', '*', '+',\n",
    "                      ',', '.', '/', ':', ';', '<', '=', '>', '?', '@',\n",
    "                      '[', '\\\\', ']', '^', '_', '`', '{', '|', '}', '~']\n",
    "\n",
    "def to_lower_case(row: dict) -> dict:\n",
    "    \"\"\"\n",
    "    Lower text field in the row dict\n",
    "    return: updated row\n",
    "    \"\"\"\n",
    "    row['text'] = row['text'].lower()\n",
    "    return row\n",
    "\n",
    "def remove_punctuation(row: dict) -> dict:\n",
    "    \"\"\"\n",
    "    Replace punctuation from punctuation_filter list to\n",
    "    spaces in the text field of row dict\n",
    "    return: updated row\n",
    "    \"\"\"\n",
    "    for punctuation in punctuation_filter:\n",
    "        row['text'] = row['text'].replace(punctuation, ' ')\n",
    "    row['text'] = row['text'].replace('!', ' ! ')\n",
    "    return row\n",
    "\n",
    "def preprocessing(row: dict) -> dict:\n",
    "    \"\"\"\n",
    "    Lower text field in the row dict and replace punctuation\n",
    "    from punctuation_filter list to spaces in the text field\n",
    "    of row dict\n",
    "    return: updated row\n",
    "    \"\"\"\n",
    "    return to_lower_case(remove_punctuation(row))"
   ]
  },
  {
   "cell_type": "code",
   "execution_count": 4,
   "id": "ecd53f75",
   "metadata": {},
   "outputs": [
    {
     "data": {
      "application/vnd.jupyter.widget-view+json": {
       "model_id": "",
       "version_major": 2,
       "version_minor": 0
      },
      "text/plain": [
       "Map:   0%|          | 0/25000 [00:00<?, ? examples/s]"
      ]
     },
     "metadata": {},
     "output_type": "display_data"
    },
    {
     "data": {
      "application/vnd.jupyter.widget-view+json": {
       "model_id": "",
       "version_major": 2,
       "version_minor": 0
      },
      "text/plain": [
       "Map:   0%|          | 0/25000 [00:00<?, ? examples/s]"
      ]
     },
     "metadata": {},
     "output_type": "display_data"
    },
    {
     "data": {
      "application/vnd.jupyter.widget-view+json": {
       "model_id": "",
       "version_major": 2,
       "version_minor": 0
      },
      "text/plain": [
       "Map:   0%|          | 0/50000 [00:00<?, ? examples/s]"
      ]
     },
     "metadata": {},
     "output_type": "display_data"
    }
   ],
   "source": [
    "preprocess_train = dataset_test.map(preprocessing)\n",
    "preprocess_test = dataset_train.map(preprocessing)\n",
    "preprocess_unsupervised = dataset_unsupervised.map(preprocessing)"
   ]
  },
  {
   "cell_type": "markdown",
   "id": "11177b22",
   "metadata": {},
   "source": [
    "# Features (6 points)"
   ]
  },
  {
   "cell_type": "code",
   "execution_count": 5,
   "id": "f516e1fc",
   "metadata": {},
   "outputs": [],
   "source": [
    "from sklearn.naive_bayes import MultinomialNB\n",
    "from sklearn.feature_extraction.text import CountVectorizer\n",
    "import math"
   ]
  },
  {
   "cell_type": "markdown",
   "id": "87a16f00",
   "metadata": {},
   "source": [
    "## Get positive and negative lexicons"
   ]
  },
  {
   "cell_type": "code",
   "execution_count": 10,
   "id": "89b4e1de",
   "metadata": {},
   "outputs": [],
   "source": [
    "data = pd.read_csv('vader_lexicon.txt', delimiter='\t', names=['token', 'sentiment', 'A', 'B'])\n",
    "data = data.drop(columns=['A', 'B'])\n",
    "positive = data.loc[data.sentiment >= 1]\n",
    "positive = positive[\"token\"].values.tolist()\n",
    "negative = data.loc[data.sentiment <= -1]\n",
    "negative = negative[\"token\"].values.tolist()"
   ]
  },
  {
   "cell_type": "markdown",
   "id": "e61bc4f4",
   "metadata": {},
   "source": [
    "## Vectorize text\n",
    "For every given text, we want to generate a vector with the features seen in class.\n",
    "\n",
    "(6 points) Code the following features:\n",
    "\n",
    "- 1 if \"no\" appears in the document, 0 otherwise.\n",
    "- The count of first and second pronouns in the document.\n",
    "- 1 if \"!\" is in the document, 0 otherwise.\n",
    "- Log(word count in the document).\n",
    "- Number of words in the document which are in the positive lexicon.\n",
    "- Number of words in the document which are in the negative lexicon."
   ]
  },
  {
   "cell_type": "code",
   "execution_count": 11,
   "id": "7c43a61e",
   "metadata": {},
   "outputs": [],
   "source": [
    "pronouns = ['I', 'you', 'we'] \n",
    "def Vectorizer(documents: list[str]):\n",
    "    \"\"\"\n",
    "    Vectorize the documents\n",
    "    return list of vectors\n",
    "    \"\"\"\n",
    "    X = []\n",
    "    for doc in documents:\n",
    "        words = doc.split()\n",
    "\n",
    "        positive_count = 0\n",
    "        negative_count = 0\n",
    "        pronoun_count = 0\n",
    "        for word in words:\n",
    "            if word in pronouns:\n",
    "                pronoun_count += 1\n",
    "            if word in positive:\n",
    "                positive_count += 1\n",
    "            elif word in negative:\n",
    "                negative_count += 1\n",
    "\n",
    "        vec = []\n",
    "        # 1 if \"no\" appears in the document, 0 otherwise.\n",
    "        if \"no\" in words:\n",
    "            vec.append(1)\n",
    "        else:\n",
    "            vec.append(0)\n",
    "            \n",
    "        # The count of first and second pronouns in the document.\n",
    "        vec.append(pronoun_count)\n",
    "        \n",
    "        # 1 if \"!\" is in the document, 0 otherwise.\n",
    "        if \"!\" in doc:\n",
    "            vec.append(1)\n",
    "        else:\n",
    "            vec.append(0)\n",
    "        # Log(word count in the document).\n",
    "        vec.append(math.log10(len(words)))\n",
    "    \n",
    "        # positive and negative lexicon\n",
    "    \n",
    "        vec.append(positive_count)\n",
    "        vec.append(negative_count)\n",
    "\n",
    "        X.append(vec)\n",
    "    return X"
   ]
  },
  {
   "cell_type": "code",
   "execution_count": 12,
   "id": "f89de4ed",
   "metadata": {},
   "outputs": [
    {
     "name": "stdout",
     "output_type": "stream",
     "text": [
      "CPU times: user 7min 46s, sys: 75 ms, total: 7min 46s\n",
      "Wall time: 7min 47s\n"
     ]
    },
    {
     "data": {
      "text/plain": [
       "[[0, 1, 1, 2.380211241711606, 9, 8],\n",
       " [0, 5, 0, 2.3483048630481607, 16, 14],\n",
       " [0, 0, 0, 2.1367205671564067, 2, 3],\n",
       " [1, 0, 0, 2.5634810853944106, 9, 18],\n",
       " [0, 2, 1, 2.1367205671564067, 12, 2],\n",
       " [1, 0, 0, 2.2833012287035497, 8, 11],\n",
       " [1, 4, 0, 2.4771212547196626, 21, 11],\n",
       " [0, 2, 0, 2.2380461031287955, 6, 15],\n",
       " [0, 3, 1, 2.103803720955957, 6, 6],\n",
       " [0, 4, 0, 2.2528530309798933, 7, 14]]"
      ]
     },
     "execution_count": 12,
     "metadata": {},
     "output_type": "execute_result"
    }
   ],
   "source": [
    "%%time\n",
    "dataset = Vectorizer(preprocess_train['text'])\n",
    "dataset[:10]"
   ]
  },
  {
   "cell_type": "code",
   "execution_count": 13,
   "id": "07a37312",
   "metadata": {},
   "outputs": [
    {
     "name": "stdout",
     "output_type": "stream",
     "text": [
      "Train dataset: torch.Size([25000, 6])\n",
      "X_train len: torch.Size([16000, 6])\n",
      "X_test len: torch.Size([5000, 6])\n",
      "X_valid len: torch.Size([4000, 6])\n"
     ]
    }
   ],
   "source": [
    "all_points = torch.tensor(dataset, dtype=torch.float32)\n",
    "# norm result btw -1 and 1\n",
    "#pre_labels = np.array(preprocess_train['label']) * 2 - 1\n",
    "pre_labels = np.array(preprocess_train['label'])\n",
    "labels = torch.tensor(pre_labels, dtype=torch.float32).reshape(-1, 1)\n",
    "print('Train dataset:', all_points.shape)\n",
    "\n",
    "X_train, X_test, y_train, y_test = train_test_split(\n",
    "    all_points,\n",
    "    labels,\n",
    "    test_size=0.2,\n",
    "    stratify=labels,\n",
    "    random_state=42,\n",
    ")\n",
    "X_train, X_valid, y_train, y_valid = train_test_split(\n",
    "    X_train,\n",
    "    y_train,\n",
    "    test_size=0.2,\n",
    "    stratify=y_train,\n",
    "    random_state=42,\n",
    ")\n",
    "\n",
    "print('X_train len:', X_train.shape)\n",
    "print('X_test len:', X_test.shape)\n",
    "print('X_valid len:', X_valid.shape)\n"
   ]
  },
  {
   "cell_type": "markdown",
   "id": "f7a3fff4",
   "metadata": {},
   "source": [
    "# Logistic regression classifier (6 points)"
   ]
  },
  {
   "cell_type": "code",
   "execution_count": 14,
   "id": "a286cd01",
   "metadata": {},
   "outputs": [],
   "source": [
    "class LinearRegression(nn.Module):\n",
    "    \"\"\"A linear regression implementation\"\"\"\n",
    "\n",
    "    def __init__(self, input_dim: int, nb_classes: int) -> None:\n",
    "        \"\"\"\n",
    "        Args:\n",
    "            input_dim: the dimension of the input features.\n",
    "            nb_classes: the number of classes to predict.\n",
    "        \"\"\"\n",
    "        super().__init__()\n",
    "        self.linear = nn.Linear(input_dim, nb_classes)\n",
    "\n",
    "    def forward(self, x: torch.Tensor) -> torch.Tensor:\n",
    "        \"\"\"\n",
    "        Args:\n",
    "            x: the input tensor.\n",
    "        Returns:\n",
    "            The output of the linear layer.\n",
    "        \"\"\"\n",
    "        return self.linear(x)"
   ]
  },
  {
   "cell_type": "markdown",
   "id": "3d42d4b1",
   "metadata": {},
   "source": [
    "# Training the model\n",
    "\n",
    "Adapt the code by adding your feature extractor and train a classifier."
   ]
  },
  {
   "cell_type": "code",
   "execution_count": 15,
   "id": "0fdf3669",
   "metadata": {},
   "outputs": [],
   "source": [
    "model = LinearRegression(6, 1)\n",
    "# Stochastic gradient descent\n",
    "criterion = nn.BCEWithLogitsLoss()\n",
    "optimizer = torch.optim.SGD(model.parameters(), lr=0.01, weight_decay=0.5)"
   ]
  },
  {
   "cell_type": "code",
   "execution_count": null,
   "id": "19aa223f",
   "metadata": {},
   "outputs": [],
   "source": [
    "%%time\n",
    "\n",
    "n_epochs = 10000\n",
    "\n",
    "# Keeping an eye on the losses\n",
    "train_losses = []\n",
    "test_losses = []\n",
    "\n",
    "# Training loop\n",
    "for epoch in range(n_epochs):\n",
    "    # Setting all gradients to zero.\n",
    "    optimizer.zero_grad()\n",
    "\n",
    "    # Sending the whole training set through the model.\n",
    "    predictions = model(X_train)\n",
    "    # Computing the loss.\n",
    "    loss = criterion(predictions, y_train)\n",
    "    train_losses.append(loss.item())\n",
    "    if epoch % 100 == 0:\n",
    "        print(loss)\n",
    "    # Computing the gradients and gradient descent.\n",
    "    loss.backward()\n",
    "    optimizer.step()\n",
    "\n",
    "    # When computing the validation loss, we do not want to update the weights.\n",
    "    # torch.no_grad tells PyTorch to not save the necessary data used for\n",
    "    # gradient descent.\n",
    "    with torch.no_grad():\n",
    "        predictions = model(X_valid)\n",
    "        loss = criterion(predictions, y_valid)\n",
    "        test_losses.append(loss)"
   ]
  },
  {
   "cell_type": "code",
   "execution_count": 17,
   "id": "c3502f5e",
   "metadata": {
    "scrolled": true
   },
   "outputs": [
    {
     "data": {
      "text/plain": [
       "<matplotlib.legend.Legend at 0x7f33e6179810>"
      ]
     },
     "execution_count": 17,
     "metadata": {},
     "output_type": "execute_result"
    },
    {
     "data": {
      "image/png": "[encoded data removed]",
      "text/plain": [
       "<Figure size 640x480 with 1 Axes>"
      ]
     },
     "metadata": {},
     "output_type": "display_data"
    }
   ],
   "source": [
    "# Checking the losses\n",
    "plt.plot(np.arange(len(train_losses)), train_losses, label=\"Training loss\")\n",
    "plt.plot(np.arange(len(test_losses)), test_losses, label=\"Test loss\")\n",
    "plt.legend()"
   ]
  },
  {
   "cell_type": "markdown",
   "id": "c209800e",
   "metadata": {},
   "source": [
    "(1 point) Evaluate your classifier in terms of accuracy for the training, validation, and test set."
   ]
  },
  {
   "cell_type": "code",
   "execution_count": 21,
   "id": "0cf86e51",
   "metadata": {},
   "outputs": [
    {
     "name": "stdout",
     "output_type": "stream",
     "text": [
      "Model accuracy:\n",
      " - training: 0.7124375 %\n",
      " - valid: 0.7145 %\n",
      " - test: 0.7148 %\n"
     ]
    }
   ],
   "source": [
    "# Note that we need to use a sigmoid on the output now.\n",
    "with torch.no_grad():\n",
    "    p_train = torch.sigmoid(model(X_train))\n",
    "    p_train = np.round(p_train.numpy())\n",
    "    training_accuracy = np.mean(p_train == y_train.numpy())\n",
    "    p_valid = torch.sigmoid(model(X_valid))\n",
    "    p_valid = np.round(p_valid.numpy())\n",
    "    valid_accuracy = np.mean(p_valid == y_valid.numpy())\n",
    "    p_test = torch.sigmoid(model(X_test))\n",
    "    p_test = np.round(p_test.numpy())\n",
    "    test_accuracy = np.mean(p_test == y_test.numpy())\n",
    "print(\"Model accuracy:\")\n",
    "print(\" - training:\", training_accuracy)\n",
    "print(\" - valid:\", valid_accuracy)\n",
    "print(\" - test:\", test_accuracy)"
   ]
  },
  {
   "cell_type": "code",
   "execution_count": 22,
   "id": "92ae2d91",
   "metadata": {},
   "outputs": [
    {
     "name": "stdout",
     "output_type": "stream",
     "text": [
      "{'text': 'this film was a very good one !  i really like it '}\n",
      "[[0, 0, 1, 1.0791812460476249, 2, 0]]\n"
     ]
    },
    {
     "data": {
      "text/plain": [
       "tensor([[0.5423]], grad_fn=<SigmoidBackward0>)"
      ]
     },
     "execution_count": 22,
     "metadata": {},
     "output_type": "execute_result"
    }
   ],
   "source": [
    "# Predicting new samples\n",
    "sample = 'This film was a very good one! I really like it.'\n",
    "pre_sample = preprocessing({'text': sample})\n",
    "print(pre_sample)\n",
    "vec_sample = Vectorizer([pre_sample['text']])\n",
    "print(vec_sample)\n",
    "torch.sigmoid(model(torch.tensor(vec_sample, dtype=torch.float32)))"
   ]
  },
  {
   "cell_type": "code",
   "execution_count": 23,
   "id": "8e51fb5d",
   "metadata": {},
   "outputs": [
    {
     "name": "stdout",
     "output_type": "stream",
     "text": [
      "linear.weight tensor([[-0.0301, -0.0141, -0.0092, -0.0332,  0.1150, -0.1520]])\n",
      "linear.bias tensor([-0.0154])\n"
     ]
    }
   ],
   "source": [
    "for name, param in model.named_parameters():\n",
    "    print(name, param.data)"
   ]
  },
  {
   "cell_type": "markdown",
   "id": "c531127b",
   "metadata": {},
   "source": [
    "#### (1 point) Look at the weights of your classifier. Which features seems to play most for both classes?\n",
    "\n",
    "The two last features of the vector are the one that matters the most. The positive word count feature have the biggest impact for the positive class and negative one for the negative class.\n",
    "\n",
    "#### (1 point) Using one of the implementation, take at least 2 wrongly classified example from the test set and try explaining why the model failed."
   ]
  },
  {
   "cell_type": "code",
   "execution_count": 55,
   "id": "bf0a11d0",
   "metadata": {},
   "outputs": [
    {
     "name": "stdout",
     "output_type": "stream",
     "text": [
      "3030\n"
     ]
    }
   ],
   "source": [
    "for i in range(3000, len(preprocess_test['text'])):\n",
    "    first_exemple = preprocess_test['text'][i]\n",
    "    #print(preprocess_test['label'][i])\n",
    "    #print(\"First Comment: '\", first_exemple, \"'\")\n",
    "    vec_sample = Vectorizer([first_exemple])\n",
    "    p = torch.sigmoid(model(torch.tensor(vec_sample, dtype=torch.float32)))\n",
    "    p = p[0][0].item()\n",
    "    if round(p) != preprocess_test['label'][i]:\n",
    "        if p < 0.35 or p > 0.9:\n",
    "            print(i)\n",
    "            break"
   ]
  },
  {
   "cell_type": "code",
   "execution_count": 51,
   "id": "60554757",
   "metadata": {},
   "outputs": [],
   "source": [
    "def check_text(text_id):\n",
    "    \"\"\"\n",
    "    text_id: int\n",
    "    Run model on the text id and print results\n",
    "    \"\"\"\n",
    "    text = preprocess_test['text'][text_id]\n",
    "    label = preprocess_test['label'][text_id]\n",
    "    print(\"Text: '\", text, \"'\")\n",
    "    vec_sample = Vectorizer([text])\n",
    "    p = torch.sigmoid(model(torch.tensor(vec_sample, dtype=torch.float32)))\n",
    "    p = p[0][0].item()\n",
    "    print(\"Vector: \", vec_sample)\n",
    "    print(\"Text label: \", label, 'Positive' if label == 1 else 'Negative')\n",
    "    print(\"Predict: \", p, 'Positive' if round(p) == 1 else 'Negative')"
   ]
  },
  {
   "cell_type": "code",
   "execution_count": 52,
   "id": "348acd4c",
   "metadata": {},
   "outputs": [
    {
     "name": "stdout",
     "output_type": "stream",
     "text": [
      "Text: ' when an attempt is made to assassinate the emir of ohtar  an arab potentate visiting washington  d c   his life is saved by a cocktail waitress named sunny davis  sunny becomes a national heroine and media celebrity and as a reward is offered a job working for the protocol section of the united states department of state  unknown to her however  the state department officials who offer her the job have a hidden agenda  br    br   a map we see shows ohtar lying on the borders of saudi arabia and south yemen  in an area of barren desert known as the rub al-khali  or empty quarter  in real life a state in this location would have a population of virtually zero  and virtually zero strategic value  but for the purposes of the film we have to accept that ohtar is of immense strategic importance in the cold war and that the american government  who are keen to build a military base there  need to do all that they can in order to keep on the good side of its ruler  it transpires that the emir has taken a fancy to the attractive young woman who saved him and he has reached a deal with the state department  they can have their base provided that he can have sunny as the latest addition to his harem  sunny s new job is just a ruse to ensure that the emir has further opportunities to meet her  br    br   a plot like this could have been the occasion for some hilarious satire  but in fact the film s satirical content is rather toned down  possibly in 1984 the american public were not in the mood for trenchant satire on their country s foreign policy  this was  after all  the year in which ronald reagan carried forty-nine out of fifty states in the presidential election and his hard line with the soviet union was clearly going down well with the voters   if the film had been made a couple of years later  in the wake of the iran contra affair  its tone might have been different   br    br   the film is not so much a satire as a vehicle for goldie hawn to show off her brand of cuteness and charm  sunny is a typical goldie character- pretty  sweet-natured  naive and not too bright  there is  however  a limit to how far you can go with cuteness and charm alone  and you cannot automatically make a bad film a good one just by making the leading character a dumb blonde   actually  that sounds more like a recipe for making a good film a bad one   goldie tries her best to save this one  but never succeeds  part of the reason is the inconsistent way in which her character is portrayed  on the one hand sunny is a sweet  innocent country girl from oregon  on the other hand she is a 35-year-old woman who works in a sleazy bar and wears a revealing costume  the effect is rather like imagining rebecca of sunnybrook farm grown up and working as a bunny girl  br    br   the more important reason why goldie is unable to rescue this film is even the best comedian or comedienne is no better than his her material  and  protocol  is simply unfunny  whatever humour exists is tired and strained  relying on offensive stereotypes about arab men who  apparently  all lust after western women  particularly if they are blonde and blue-eyed  there was a lot of this sort of thing about in the mid-eighties  as this was the period which also saw the awful ben kingsley  nastassia kinski film  harem   about a lascivious middle eastern ruler who kidnaps a young american woman  and the mini-series of the same name which told a virtually identical story with a period setting  the film-makers seem to have realised that their film would not work as a pure comedy  because towards the end it turns into a sort of latter-day  mr smith goes to washington   sunny turns from a blonde bimbo into a fount of political wisdom and starts uttering all sorts of platitudes about democracy and the constitution and the citizen s duty to vote and we the people and how the price of liberty is eternal vigilance blah blah blah",
      "",
      "  but in truth the film is no more successful as a political parable than it is as a comedy  br    br   goldie hawn has made a number of good comedies  such as  cactus flower    overboard  and   housesitter   but  protocol  is not one of them  i have not seen all of her films  but of those i have seen this dire comedy is by far the worst  3 10 '\n",
      "Vector:  [[1, 5, 0, 2.8937617620579434, 55, 15]]\n",
      "Text label:  0 Negative\n",
      "Predict:  0.9788353443145752 Positive\n"
     ]
    }
   ],
   "source": [
    "check_text(69)"
   ]
  },
  {
   "cell_type": "markdown",
   "id": "65954ccf",
   "metadata": {},
   "source": [
    "We can see that this comment is wrongly preticted as positive by the algorhitm because the author tell us that while the actress is really pretty, it isn't enough to make the movie good. He praises a lot the actress, hence the confusion."
   ]
  },
  {
   "cell_type": "code",
   "execution_count": 56,
   "id": "7d903d39",
   "metadata": {},
   "outputs": [
    {
     "name": "stdout",
     "output_type": "stream",
     "text": [
      "Text: ' when i finally had the opportunity to watch zombie 3 zombie flesheaters 2 in europe on an import region 2 japanese dvd i was blown away by just how entertaining this zombie epic is the transfer is just about immaculate as good as it s ever going to look unless anchor bay gets a hold of it the gore truly stands out like it should and you can really appreciate the excellent makeup and gore fx the sound is also terrific it s only 2 channel dolby but if you have a receiver with dolby prologic 2 you can really appreciate the cheesy music actually a very good score  and the effective although cheap sound effects it never sounded so good and the excellent transfer adds to the overall enjoyment  br    br   i never realized just how much blood flows in this film it s extremely brutal with exploding head shots exploding puss filled mega pimples a cleaver to a zombies throat a woman s burned off extremities how come it did nt burn the guy also  intestinal munching zombie babies and so much more i lost track  br    br   this is no doubt for hardcore zombie action fans especially of the italian kind there is some excellent set pieces and cinematography to be found i think people don t give it enough credit if you see a clean print and not some horrendous pirate copy it s a whole other experience entirely  br    br   this film never lets up for a second and i realize it s inconsistent plotwise the dubbing is horrible the acting is stiff and it s sense of irreverence is celebrated in grand fashion but that s part of it s charm  br    br   to me this is one of the best horror films ever made you can t make a film this bad so good on purpose it s accidental genius of the highest order if they played it for laughs it would have been a disaster but they played it straight as an arrow and the result is a terrific cult classic that thumbs it s nose at any and all traditional moviemaking standards  br    br   tons of action sequences exotic locales excellent set design good sometimes great cinematography wonderfully cheesy acting and inconsistent but still interesting plot great makeup effects beautiful women who can kick butt excellent music and sometimes hilarious sometimes creepy but always entertaining zombies how can you go wrong with this film it has it all a cult classic that stands the test of time  '\n",
      "Vector:  [[1, 6, 0, 2.629409599102719, 37, 10]]\n",
      "Text label:  0 Negative\n",
      "Predict:  0.9254114627838135 Positive\n"
     ]
    }
   ],
   "source": [
    "check_text(3030)"
   ]
  },
  {
   "cell_type": "markdown",
   "id": "cad8cbe4",
   "metadata": {},
   "source": [
    "In this comment we cans see that the author is prasing the movie for being so bad it's good. The algorithm doesn't detect sarcasm. We can see that the vector of this 2 wrong examples have more words in the positive lexicon than negative."
   ]
  }
 ],
 "metadata": {
  "kernelspec": {
   "display_name": "Python 3 (ipykernel)",
   "language": "python",
   "name": "python3"
  },
  "language_info": {
   "codemirror_mode": {
    "name": "ipython",
    "version": 3
   },
   "file_extension": ".py",
   "mimetype": "text/x-python",
   "name": "python",
   "nbconvert_exporter": "python",
   "pygments_lexer": "ipython3",
   "version": "3.10.10"
  }
 },
 "nbformat": 4,
 "nbformat_minor": 5
}
